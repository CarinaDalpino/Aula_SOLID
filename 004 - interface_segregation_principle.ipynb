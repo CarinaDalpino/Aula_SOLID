{
 "cells": [
  {
   "cell_type": "markdown",
   "id": "2979bdec",
   "metadata": {},
   "source": [
    "## Princípio da Segregação de Interface (ISP)\n",
    "\n",
    "Nenhuma classe deve ser forçada a depender de métodos que não utiliza. É melhor ter várias interfaces específicas do que uma única interface geral."
   ]
  },
  {
   "cell_type": "code",
   "execution_count": 1,
   "id": "a70b325b",
   "metadata": {},
   "outputs": [],
   "source": [
    "from abc import ABC, abstractmethod"
   ]
  },
  {
   "cell_type": "markdown",
   "id": "d92f8d6a",
   "metadata": {},
   "source": [
    "**Exemplo Ruim:** Uma interface \"gorda\" que força as classes a implementarem métodos desnecessários."
   ]
  },
  {
   "cell_type": "code",
   "execution_count": 2,
   "id": "e43223c1",
   "metadata": {},
   "outputs": [],
   "source": [
    "class Maquina(ABC):\n",
    "    @abstractmethod\n",
    "    def imprimir(self, documento):\n",
    "        pass\n",
    "\n",
    "    @abstractmethod\n",
    "    def escanear(self, documento):\n",
    "        pass\n",
    "\n",
    "    @abstractmethod\n",
    "    def enviar_fax(self, documento):\n",
    "        pass\n",
    "\n",
    "class ImpressoraSimples(Maquina):\n",
    "    def imprimir(self, documento):\n",
    "        print(f\"Imprimindo {documento}...\")\n",
    "\n",
    "    def escanear(self, documento):\n",
    "        # Impressora simples não escaneia, mas é forçada a implementar o método.\n",
    "        raise NotImplementedError(\"Esta máquina não pode escanear.\")\n",
    "\n",
    "    def enviar_fax(self, documento):\n",
    "        # Impressora simples não envia fax.\n",
    "        raise NotImplementedError(\"Esta máquina não pode enviar fax.\")\n"
   ]
  },
  {
   "cell_type": "markdown",
   "id": "9af94c9e",
   "metadata": {},
   "source": [
    "**Exemplo Bom:** Interfaces menores e mais específicas."
   ]
  },
  {
   "cell_type": "code",
   "execution_count": 3,
   "id": "8ae6a996",
   "metadata": {},
   "outputs": [],
   "source": [
    "class Impressora(ABC):\n",
    "    @abstractmethod\n",
    "    def imprimir(self, documento):\n",
    "        pass\n",
    "\n",
    "class Scanner(ABC):\n",
    "    @abstractmethod\n",
    "    def escanear(self, documento):\n",
    "        pass\n",
    "\n",
    "class Fax(ABC):\n",
    "    @abstractmethod\n",
    "    def enviar_fax(self, documento):\n",
    "        pass\n",
    "\n"
   ]
  },
  {
   "cell_type": "markdown",
   "id": "74db2930",
   "metadata": {},
   "source": [
    "## Classes que implementam apenas as interfaces de que precisam."
   ]
  },
  {
   "cell_type": "code",
   "execution_count": 4,
   "id": "412d37a0",
   "metadata": {},
   "outputs": [],
   "source": [
    "class ImpressoraSimplesISP(Impressora):\n",
    "    def imprimir(self, documento):\n",
    "        print(f\"Imprimindo {documento}...\")\n",
    "\n",
    "class ScannerSimplesISP(Scanner):\n",
    "    def escanear(self, documento):\n",
    "        print(f\"Escaneando {documento}...\")\n",
    "\n",
    "class MaquinaMultifuncional(Impressora, Scanner, Fax):\n",
    "    def imprimir(self, documento):\n",
    "        print(f\"Imprimindo {documento} na multifuncional...\")\n",
    "\n",
    "    def escanear(self, documento):\n",
    "        print(f\"Escaneando {documento} na multifuncional...\")\n",
    "\n",
    "    def enviar_fax(self, documento):\n",
    "        print(f\"Enviando fax de {documento} na multifuncional...\")\n"
   ]
  },
  {
   "cell_type": "markdown",
   "id": "91a48dcd",
   "metadata": {},
   "source": [
    "## Demonstração"
   ]
  },
  {
   "cell_type": "code",
   "execution_count": 5,
   "id": "d74001f1",
   "metadata": {},
   "outputs": [
    {
     "name": "stdout",
     "output_type": "stream",
     "text": [
      "--- Exemplo Ruim ---\n",
      "Imprimindo meu_documento.pdf...\n",
      "Esta máquina não pode escanear.\n",
      "\n",
      "==============================\n",
      "\n",
      "--- Exemplo Bom (ISP) ---\n",
      "Imprimindo relatorio.docx...\n",
      "Escaneando foto.jpg...\n",
      "Imprimindo apresentacao.pptx na multifuncional...\n",
      "Escaneando contrato.pdf na multifuncional...\n",
      "Enviando fax de pedido.pdf na multifuncional...\n"
     ]
    }
   ],
   "source": [
    "if __name__ == \"__main__\":\n",
    "    # Exemplo ruim\n",
    "    print(\"--- Exemplo Ruim ---\")\n",
    "    impressora_ruim = ImpressoraSimples()\n",
    "    impressora_ruim.imprimir(\"meu_documento.pdf\")\n",
    "    try:\n",
    "        impressora_ruim.escanear(\"meu_documento.pdf\")\n",
    "    except NotImplementedError as e:\n",
    "        print(e)\n",
    "\n",
    "    print(\"\\n\" + \"=\"*30 + \"\\n\")\n",
    "\n",
    "    # Exemplo bom\n",
    "    print(\"--- Exemplo Bom (ISP) ---\")\n",
    "    impressora_boa = ImpressoraSimplesISP()\n",
    "    scanner_bom = ScannerSimplesISP()\n",
    "    multifuncional = MaquinaMultifuncional()\n",
    "\n",
    "    impressora_boa.imprimir(\"relatorio.docx\")\n",
    "    scanner_bom.escanear(\"foto.jpg\")\n",
    "    multifuncional.imprimir(\"apresentacao.pptx\")\n",
    "    multifuncional.escanear(\"contrato.pdf\")\n",
    "    multifuncional.enviar_fax(\"pedido.pdf\")\n"
   ]
  },
  {
   "cell_type": "code",
   "execution_count": null,
   "id": "3c81f6dd",
   "metadata": {},
   "outputs": [],
   "source": []
  }
 ],
 "metadata": {
  "kernelspec": {
   "display_name": "Python 3",
   "language": "python",
   "name": "python3"
  },
  "language_info": {
   "codemirror_mode": {
    "name": "ipython",
    "version": 3
   },
   "file_extension": ".py",
   "mimetype": "text/x-python",
   "name": "python",
   "nbconvert_exporter": "python",
   "pygments_lexer": "ipython3",
   "version": "3.10.12"
  }
 },
 "nbformat": 4,
 "nbformat_minor": 5
}
