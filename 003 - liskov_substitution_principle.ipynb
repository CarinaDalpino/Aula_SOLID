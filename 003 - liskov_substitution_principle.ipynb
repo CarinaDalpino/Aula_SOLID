{
 "cells": [
  {
   "cell_type": "markdown",
   "id": "07d4e52e",
   "metadata": {},
   "source": [
    "## Princípio da Substituição de Liskov (LSP)\n",
    "\n",
    "Objetos de uma superclasse devem ser substituíveis por objetos de uma subclasse sem afetar a correção do programa.\n",
    "\n",
    "**Exemplo Ruim:** Uma subclasse que não pode substituir completamente sua superclasse."
   ]
  },
  {
   "cell_type": "code",
   "execution_count": null,
   "id": "209c1c2e",
   "metadata": {},
   "outputs": [],
   "source": [
    "class Passaro:\n",
    "    def voar(self):\n",
    "        return \"Voando...\"\n",
    "\n",
    "class Pinguim(Passaro):\n",
    "    def voar(self):\n",
    "        # Pinguins não voam, então este método quebra a expectativa da superclasse.\n",
    "        raise Exception(\"Pinguins não podem voar!\")\n",
    "\n",
    "def fazer_passaro_voar(passaro: Passaro):\n",
    "    print(passaro.voar())\n"
   ]
  },
  {
   "cell_type": "markdown",
   "id": "fdfad096",
   "metadata": {},
   "source": [
    "**Exemplo Bom:** Estruturar as classes de forma que a substituição seja sempre válida.\n"
   ]
  },
  {
   "cell_type": "code",
   "execution_count": null,
   "id": "2df545d0",
   "metadata": {},
   "outputs": [],
   "source": [
    "class PassaroLSP:\n",
    "    \"\"\"Classe base para todos os pássaros.\"\"\"\n",
    "    pass\n",
    "\n",
    "class PassaroVoador(PassaroLSP):\n",
    "    \"\"\"Classe para pássaros que podem voar.\"\"\"\n",
    "    def voar(self):\n",
    "        return \"Voando...\"\n",
    "\n",
    "class PassaroNaoVoador(PassaroLSP):\n",
    "    \"\"\"Classe para pássaros que não podem voar.\"\"\"\n",
    "    pass\n",
    "\n",
    "class Pardal(PassaroVoador):\n",
    "    pass\n",
    "\n",
    "class PinguimLSP(PassaroNaoVoador):\n",
    "    pass\n",
    "\n",
    "def fazer_passaro_voar_lsp(passaro: PassaroVoador):\n",
    "    # Esta função agora só aceita pássaros que podem voar, garantindo que o método voar() exista.\n",
    "    print(passaro.voar())\n",
    "\n"
   ]
  },
  {
   "cell_type": "markdown",
   "id": "71a924fd",
   "metadata": {},
   "source": [
    "## Demonstração"
   ]
  },
  {
   "cell_type": "code",
   "execution_count": null,
   "id": "97dc949f",
   "metadata": {},
   "outputs": [],
   "source": [
    "if __name__ == \"__main__\":\n",
    "    # Exemplo ruim\n",
    "    print(\"--- Exemplo Ruim ---\")\n",
    "    pardal_ruim = Passaro()\n",
    "    pinguim_ruim = Pinguim()\n",
    "\n",
    "    fazer_passaro_voar(pardal_ruim) # Funciona\n",
    "    try:\n",
    "        fazer_passaro_voar(pinguim_ruim) # Lança uma exceção, violando o LSP\n",
    "    except Exception as e:\n",
    "        print(e)\n",
    "\n",
    "    print(\"\\n\" + \"=\"*30 + \"\\n\")\n",
    "\n",
    "    # Exemplo bom\n",
    "    print(\"--- Exemplo Bom (LSP) ---\")\n",
    "    pardal_bom = Pardal()\n",
    "    pinguim_bom = PinguimLSP()\n",
    "\n",
    "    fazer_passaro_voar_lsp(pardal_bom) # Funciona\n",
    "    # A linha abaixo causaria um erro de tipo se usássemos um verificador de tipo estático,\n",
    "    # pois PinguimLSP não é um PassaroVoador. Isso previne o erro em tempo de execução.\n",
    "    # fazer_passaro_voar_lsp(pinguim_bom) \n",
    "    # # Esta chamada não é válida e seria pega por um linter/type checker.\n",
    "    print(\"A função fazer_passaro_voar_lsp só pode ser chamada com pássaros voadores, como o Pardal.\")\n"
   ]
  }
 ],
 "metadata": {
  "language_info": {
   "name": "python"
  }
 },
 "nbformat": 4,
 "nbformat_minor": 5
}
