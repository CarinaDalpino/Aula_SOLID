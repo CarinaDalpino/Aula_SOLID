{
 "cells": [
  {
   "cell_type": "markdown",
   "id": "b6686fdc",
   "metadata": {},
   "source": [
    "## Princípio Aberto/Fechado (OCP)\n",
    "\n",
    "Entidades de software (classes, módulos, funções) devem estar abertas para extensão, mas fechadas para modificação.\n"
   ]
  },
  {
   "cell_type": "code",
   "execution_count": 1,
   "id": "d498fb70",
   "metadata": {},
   "outputs": [],
   "source": [
    "from abc import ABC, abstractmethod"
   ]
  },
  {
   "cell_type": "markdown",
   "id": "d7c78515",
   "metadata": {},
   "source": [
    "**Exemplo Ruim:** A classe CalculadoraDeArea precisa ser modificada toda vez que um novo tipo de forma é  adicionado.\n"
   ]
  },
  {
   "cell_type": "code",
   "execution_count": 2,
   "id": "d725f1a0",
   "metadata": {},
   "outputs": [],
   "source": [
    "class Retangulo:\n",
    "    def __init__(self, largura, altura):\n",
    "        self.largura = largura\n",
    "        self.altura = altura\n",
    "\n",
    "class Circulo:\n",
    "    def __init__(self, raio):\n",
    "        self.raio = raio\n",
    "\n",
    "class CalculadoraDeArea:\n",
    "    def calcular(self, formas):\n",
    "        area_total = 0\n",
    "        for forma in formas:\n",
    "            if isinstance(forma, Retangulo):\n",
    "                area_total += forma.largura * forma.altura\n",
    "            elif isinstance(forma, Circulo):\n",
    "                area_total += 3.14159 * (forma.raio ** 2)\n",
    "            # Se adicionarmos um Triangulo, precisamos modificar esta classe.\n",
    "        return area_total\n"
   ]
  },
  {
   "cell_type": "markdown",
   "id": "83426c68",
   "metadata": {},
   "source": [
    "**Exemplo Bom:** Usando uma abstração (interface) para permitir a extensão sem modificar a calculadora.\n"
   ]
  },
  {
   "cell_type": "code",
   "execution_count": 3,
   "id": "d28474cc",
   "metadata": {},
   "outputs": [],
   "source": [
    "class Forma(ABC):\n",
    "    \"\"\"Interface para uma forma geomtrica.\"\"\"\n",
    "    @abstractmethod\n",
    "    def calcular_area(self):\n",
    "        pass\n",
    "\n",
    "class RetanguloOCP(Forma):\n",
    "    def __init__(self, largura, altura):\n",
    "        self.largura = largura\n",
    "        self.altura = altura\n",
    "\n",
    "    def calcular_area(self):\n",
    "        return self.largura * self.altura\n",
    "\n",
    "class CirculoOCP(Forma):\n",
    "    def __init__(self, raio):\n",
    "        self.raio = raio\n",
    "\n",
    "    def calcular_area(self):\n",
    "        return 3.14159 * (self.raio ** 2)\n"
   ]
  },
  {
   "cell_type": "markdown",
   "id": "fdf122f4",
   "metadata": {},
   "source": [
    "## Nova forma, adicionada sem modificar a calculadora\n"
   ]
  },
  {
   "cell_type": "code",
   "execution_count": 4,
   "id": "13c5eb5d",
   "metadata": {},
   "outputs": [],
   "source": [
    "class TrianguloOCP(Forma):\n",
    "    def __init__(self, base, altura):\n",
    "        self.base = base\n",
    "        self.altura = altura\n",
    "\n",
    "    def calcular_area(self):\n",
    "        return (self.base * self.altura) / 2\n",
    "\n",
    "class CalculadoraDeAreaOCP:\n",
    "    \"\"\"Esta classe no precisa ser modificada para suportar novas formas.\"\"\"\n",
    "    def calcular(self, formas):\n",
    "        area_total = 0\n",
    "        for forma in formas:\n",
    "            # A calculadora agora depende da abstrao 'Forma'\n",
    "            area_total += forma.calcular_area()\n",
    "        return area_total\n"
   ]
  },
  {
   "cell_type": "markdown",
   "id": "e39977fc",
   "metadata": {},
   "source": [
    "## Demonstração"
   ]
  },
  {
   "cell_type": "code",
   "execution_count": null,
   "id": "db3056d5",
   "metadata": {},
   "outputs": [
    {
     "name": "stdout",
     "output_type": "stream",
     "text": [
      "--- Exemplo Ruim ---\n",
      "rea total (ruim): 203.93791\n",
      "\n",
      "==============================\n",
      "\n",
      "--- Exemplo Bom (OCP) ---\n",
      "Area total (bom): 219.93791\n"
     ]
    }
   ],
   "source": [
    "if __name__ == \"__main__\":\n",
    "    # Exemplo ruim\n",
    "    print(\"--- Exemplo Ruim ---\")\n",
    "    formas_ruins = [Retangulo(10, 5), Circulo(7)]\n",
    "    calculadora_ruim = CalculadoraDeArea()\n",
    "    print(f\"Área total (ruim): {calculadora_ruim.calcular(formas_ruins)}\")\n",
    "\n",
    "    print(\"\\n\" + \"=\"*30 + \"\\n\")\n",
    "\n",
    "    # Exemplo bom\n",
    "    print(\"--- Exemplo Bom (OCP) ---\")\n",
    "    formas_boas = [RetanguloOCP(10, 5), CirculoOCP(7), TrianguloOCP(8, 4)]\n",
    "    calculadora_boa = CalculadoraDeAreaOCP()\n",
    "    print(f\"Área total (bom): {calculadora_boa.calcular(formas_boas)}\")\n"
   ]
  },
  {
   "cell_type": "code",
   "execution_count": null,
   "id": "7c95c8b3",
   "metadata": {},
   "outputs": [],
   "source": []
  }
 ],
 "metadata": {
  "kernelspec": {
   "display_name": "Python 3",
   "language": "python",
   "name": "python3"
  },
  "language_info": {
   "codemirror_mode": {
    "name": "ipython",
    "version": 3
   },
   "file_extension": ".py",
   "mimetype": "text/x-python",
   "name": "python",
   "nbconvert_exporter": "python",
   "pygments_lexer": "ipython3",
   "version": "3.10.12"
  }
 },
 "nbformat": 4,
 "nbformat_minor": 5
}
