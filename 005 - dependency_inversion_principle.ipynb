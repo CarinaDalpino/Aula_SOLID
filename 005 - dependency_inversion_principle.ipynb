{
 "cells": [
  {
   "cell_type": "markdown",
   "id": "afe3ea37",
   "metadata": {},
   "source": [
    "## Princípio da Inversão de Dependência (DIP)\n",
    "\n",
    "Módulos de alto nível não devem depender de módulos de baixo nível. Ambos devem depender de abstrações.\n",
    "Abstrações não devem depender de detalhes. Detalhes devem depender de abstrações."
   ]
  },
  {
   "cell_type": "code",
   "execution_count": 1,
   "id": "f25d7dce",
   "metadata": {},
   "outputs": [],
   "source": [
    "from abc import ABC, abstractmethod"
   ]
  },
  {
   "cell_type": "markdown",
   "id": "a0c1047e",
   "metadata": {},
   "source": [
    "**Exemplo Ruim:** Módulo de alto nível (ServicoDeNotificacao) dependendo diretamente de um módulo de baixo nível (EmailSender)."
   ]
  },
  {
   "cell_type": "code",
   "execution_count": 2,
   "id": "a68cef88",
   "metadata": {},
   "outputs": [],
   "source": [
    "class EmailSender:\n",
    "    def enviar(self, mensagem):\n",
    "        print(f\"Enviando e-mail: {mensagem}\")\n",
    "\n",
    "class ServicoDeNotificacao:\n",
    "    def __init__(self):\n",
    "        # Dependência direta da classe concreta EmailSender\n",
    "        self.sender = EmailSender()\n",
    "\n",
    "    def notificar(self, mensagem):\n",
    "        self.sender.enviar(mensagem)\n"
   ]
  },
  {
   "cell_type": "markdown",
   "id": "e3387b3c",
   "metadata": {},
   "source": [
    "Se quisermos usar um método de notificação diferente (ex: SMS), teremos que alterar a classe ServicoDeNotificacao.\n",
    "\n",
    "\n",
    "**Exemplo Bom:** Ambos os módulos dependem de uma abstração (interface)."
   ]
  },
  {
   "cell_type": "code",
   "execution_count": null,
   "id": "157fcd8e",
   "metadata": {},
   "outputs": [],
   "source": [
    "class Notificador(ABC):\n",
    "    \"\"\"Abstração (interface) para qualquer tipo de notificador.\"\"\"\n",
    "    @abstractmethod\n",
    "    def enviar(self, mensagem):\n",
    "        pass\n",
    "\n",
    "class EmailSenderDIP(Notificador):\n",
    "    \"\"\"Implementação de baixo nível para enviar e-mails.\"\"\"\n",
    "    def enviar(self, mensagem):\n",
    "        print(f\"Enviando e-mail: {mensagem}\")\n",
    "\n",
    "class SmsSenderDIP(Notificador):\n",
    "    \"\"\"Outra implementação de baixo nível para enviar SMS.\"\"\"\n",
    "    def enviar(self, mensagem):\n",
    "        print(f\"Enviando SMS: {mensagem}\")\n",
    "\n",
    "class ServicoDeNotificacaoDIP:\n",
    "    \"\"\"Módulo de alto nível que depende da abstração Notificador.\"\"\"\n",
    "    def __init__(self, sender: Notificador):\n",
    "        # A dependência é injetada através do construtor\n",
    "        self.sender = sender\n",
    "\n",
    "    def notificar(self, mensagem):\n",
    "        self.sender.enviar(mensagem)"
   ]
  },
  {
   "cell_type": "markdown",
   "id": "1f13f0e1",
   "metadata": {},
   "source": [
    "## Demonstração"
   ]
  },
  {
   "cell_type": "code",
   "execution_count": null,
   "id": "cd2e15e5",
   "metadata": {},
   "outputs": [],
   "source": [
    "if __name__ == \"__main__\":\n",
    "    # Exemplo ruim\n",
    "    print(\"--- Exemplo Ruim ---\")\n",
    "    servico_ruim = ServicoDeNotificacao()\n",
    "    servico_ruim.notificar(\"Olá Mundo!\")\n",
    "\n",
    "    print(\"\\n\" + \"=\"*30 + \"\\n\")\n",
    "\n",
    "    # Exemplo bom\n",
    "    print(\"--- Exemplo Bom (DIP) ---\")\n",
    "    \n",
    "    # Usando o notificador de e-mail\n",
    "    email_sender = EmailSenderDIP()\n",
    "    servico_com_email = ServicoDeNotificacaoDIP(email_sender)\n",
    "    servico_com_email.notificar(\"Olá via E-mail!\")\n",
    "\n",
    "    # Usando o notificador de SMS sem alterar o serviço de notificação\n",
    "    sms_sender = SmsSenderDIP()\n",
    "    servico_com_sms = ServicoDeNotificacaoDIP(sms_sender)\n",
    "    servico_com_sms.notificar(\"Olá via SMS!\")\n"
   ]
  }
 ],
 "metadata": {
  "kernelspec": {
   "display_name": "Python 3",
   "language": "python",
   "name": "python3"
  },
  "language_info": {
   "codemirror_mode": {
    "name": "ipython",
    "version": 3
   },
   "file_extension": ".py",
   "mimetype": "text/x-python",
   "name": "python",
   "nbconvert_exporter": "python",
   "pygments_lexer": "ipython3",
   "version": "3.10.12"
  }
 },
 "nbformat": 4,
 "nbformat_minor": 5
}
